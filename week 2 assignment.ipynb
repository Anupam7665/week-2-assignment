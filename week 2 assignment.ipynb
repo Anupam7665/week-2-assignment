{
 "cells": [
  {
   "cell_type": "markdown",
   "id": "e4b4a345-d9d3-4c8c-a720-85a9930a493d",
   "metadata": {},
   "source": [
    "Q1"
   ]
  },
  {
   "cell_type": "markdown",
   "id": "abf3a704-d6bf-458c-accd-23d9477a9457",
   "metadata": {},
   "source": [
    "single line comment : # hash is used in code for single line comments and interpreter ignores the hash(#) if we used in codes \n",
    "\n",
    "for eg"
   ]
  },
  {
   "cell_type": "code",
   "execution_count": 2,
   "id": "67d18a81-f811-47cd-9596-127b07b4a753",
   "metadata": {},
   "outputs": [
    {
     "data": {
      "text/plain": [
       "5"
      ]
     },
     "execution_count": 2,
     "metadata": {},
     "output_type": "execute_result"
    }
   ],
   "source": [
    "# add the number \n",
    "2+3"
   ]
  },
  {
   "cell_type": "markdown",
   "id": "fdb593e2-ada0-45e4-b746-89f42a5196e9",
   "metadata": {},
   "source": [
    "Multi line comment : # Is also used in  multi line comment .if we have to write a 3-4 lines of comments so we  have to used # in every line of code \n",
    "\n",
    "or we use ( '  ' ) single quotes for comments either we use (\"\"\"    \"\"\") triple Quotes and place a comment inside it\n",
    "\n",
    "for eg"
   ]
  },
  {
   "cell_type": "code",
   "execution_count": 10,
   "id": "ed5acaf5-b43e-4ab3-a01b-fe1e14390b70",
   "metadata": {},
   "outputs": [
    {
     "data": {
      "text/plain": [
       "12"
      ]
     },
     "execution_count": 10,
     "metadata": {},
     "output_type": "execute_result"
    }
   ],
   "source": [
    "# take ywo integer\n",
    "# multiply the number \n",
    "'multi line comment'\n",
    "\"\"\" we are written multiple \n",
    "line of comment in programm but it will not  \n",
    "print in programm\"\"\"\n",
    "\n",
    "2*6"
   ]
  },
  {
   "cell_type": "markdown",
   "id": "1ef4d353-d55d-428c-9638-7ba821aba36a",
   "metadata": {},
   "source": [
    "Q2"
   ]
  },
  {
   "cell_type": "markdown",
   "id": "2c7cfd96-b92b-41a9-a07f-cac20e5d8857",
   "metadata": {},
   "source": [
    "Variable used as a container to store the data or  or to assign the value on it\n",
    " for declaring and assigning the value:-\n",
    "\n",
    " \n",
    " 1  name the variable\n",
    " 2  assign the value\n",
    "\n",
    "for eg\n"
   ]
  },
  {
   "cell_type": "code",
   "execution_count": 13,
   "id": "c3855ea4-8f2d-4353-ba93-98f41443c06f",
   "metadata": {},
   "outputs": [
    {
     "name": "stdout",
     "output_type": "stream",
     "text": [
      "2\n",
      "<class 'int'>\n"
     ]
    }
   ],
   "source": [
    "x=2\n",
    "print(x)\n",
    "print(type(x))"
   ]
  },
  {
   "cell_type": "markdown",
   "id": "40711b60-7b8d-4ed3-9f36-2123e2170ee7",
   "metadata": {},
   "source": [
    "Q3"
   ]
  },
  {
   "cell_type": "code",
   "execution_count": 17,
   "id": "b19ab92c-ed11-4397-b837-84ad75863a80",
   "metadata": {},
   "outputs": [
    {
     "name": "stdout",
     "output_type": "stream",
     "text": [
      "z is 10.0\n"
     ]
    }
   ],
   "source": [
    "x=10\n",
    "z=float(x)\n",
    "print(\"z is\" ,z)"
   ]
  },
  {
   "cell_type": "code",
   "execution_count": 20,
   "id": "df8eedb5-c84b-4a0a-8998-b1bcace81bce",
   "metadata": {},
   "outputs": [
    {
     "name": "stdout",
     "output_type": "stream",
     "text": [
      "z is 10\n"
     ]
    }
   ],
   "source": [
    "x=10.5\n",
    "z=int(x)\n",
    "print(\"z is\" ,z)"
   ]
  },
  {
   "cell_type": "markdown",
   "id": "5b39f041-c88a-4f4f-a763-b2bc12674873",
   "metadata": {},
   "source": [
    "Q4"
   ]
  },
  {
   "cell_type": "markdown",
   "id": "df1c7023-454d-4f1a-bc58-49c221cdc555",
   "metadata": {},
   "source": [
    "![img](./Q4.png)"
   ]
  },
  {
   "cell_type": "markdown",
   "id": "2928febc-ab75-448c-bd93-2f500aac3cf2",
   "metadata": {},
   "source": [
    "Q5"
   ]
  },
  {
   "cell_type": "code",
   "execution_count": 21,
   "id": "612863ab-b326-43af-8c17-2a58dd32576f",
   "metadata": {},
   "outputs": [],
   "source": [
    "my_list = [1, 2, 3, 4, 5]"
   ]
  },
  {
   "cell_type": "code",
   "execution_count": 24,
   "id": "727b81ac-9f5f-4434-9530-2de4e72690bc",
   "metadata": {},
   "outputs": [
    {
     "data": {
      "text/plain": [
       "[2, 3]"
      ]
     },
     "execution_count": 24,
     "metadata": {},
     "output_type": "execute_result"
    }
   ],
   "source": [
    "my_list[1:3]"
   ]
  },
  {
   "cell_type": "markdown",
   "id": "c4b2b2e2-7d2c-424e-a4dd-de248409aaf2",
   "metadata": {},
   "source": [
    "Q6"
   ]
  },
  {
   "cell_type": "markdown",
   "id": "469688cc-2590-4283-bbf2-0e5a63d894bf",
   "metadata": {},
   "source": [
    "In mathematics, the consist of real and imaginary number is known as complex number and it is represented as 3+4i and\n",
    "\n",
    "in python it is represented as 3+4j"
   ]
  },
  {
   "cell_type": "markdown",
   "id": "9adf3126-ce31-4da4-8faa-8b9ac63a5c45",
   "metadata": {},
   "source": [
    "Q7"
   ]
  },
  {
   "cell_type": "markdown",
   "id": "f771f709-a512-4df6-9749-be5da79eac7f",
   "metadata": {},
   "source": [
    "the correct way to declare a variable named age and assign the value 25 to is"
   ]
  },
  {
   "cell_type": "code",
   "execution_count": 6,
   "id": "e13d70fc-ca4b-444f-93dd-db4bdc271a22",
   "metadata": {},
   "outputs": [],
   "source": [
    "age=int(25)"
   ]
  },
  {
   "cell_type": "code",
   "execution_count": 7,
   "id": "199a6c08-7b42-4a87-9354-0b77fc3ee0b2",
   "metadata": {},
   "outputs": [
    {
     "data": {
      "text/plain": [
       "25"
      ]
     },
     "execution_count": 7,
     "metadata": {},
     "output_type": "execute_result"
    }
   ],
   "source": [
    "age"
   ]
  },
  {
   "cell_type": "markdown",
   "id": "94149d76-2c2a-4300-b500-b80448d911de",
   "metadata": {},
   "source": [
    "Q8"
   ]
  },
  {
   "cell_type": "code",
   "execution_count": 8,
   "id": "77997d70-124a-4158-8b33-5f358d620948",
   "metadata": {},
   "outputs": [],
   "source": [
    "price=9.99"
   ]
  },
  {
   "cell_type": "code",
   "execution_count": 9,
   "id": "2ea69a5b-4555-4238-bc70-3fe655dda6f0",
   "metadata": {},
   "outputs": [
    {
     "data": {
      "text/plain": [
       "9.99"
      ]
     },
     "execution_count": 9,
     "metadata": {},
     "output_type": "execute_result"
    }
   ],
   "source": [
    "price"
   ]
  },
  {
   "cell_type": "code",
   "execution_count": 11,
   "id": "09cf83f6-3b8f-42a9-8f05-ae1baa657e06",
   "metadata": {},
   "outputs": [
    {
     "data": {
      "text/plain": [
       "float"
      ]
     },
     "execution_count": 11,
     "metadata": {},
     "output_type": "execute_result"
    }
   ],
   "source": [
    "type(price)"
   ]
  },
  {
   "cell_type": "markdown",
   "id": "1b0f28c1-8b73-4120-b0e4-34fa748419e5",
   "metadata": {},
   "source": [
    "this data type belong to float"
   ]
  },
  {
   "cell_type": "markdown",
   "id": "d4a22a0c-a72e-4bd0-97c1-5476910dd07c",
   "metadata": {},
   "source": [
    "Q9 "
   ]
  },
  {
   "cell_type": "code",
   "execution_count": 19,
   "id": "c0d64be0-a281-43ae-ab64-91d81faa9297",
   "metadata": {},
   "outputs": [
    {
     "name": "stdout",
     "output_type": "stream",
     "text": [
      "Anupam gupta\n"
     ]
    }
   ],
   "source": [
    "name=\"Anupam gupta\"\n",
    "print(name)\n"
   ]
  },
  {
   "cell_type": "markdown",
   "id": "f1e368cd-01d4-4fa0-ac1e-81eadfcf7c4b",
   "metadata": {},
   "source": [
    "Q10"
   ]
  },
  {
   "cell_type": "code",
   "execution_count": 76,
   "id": "93399424-7b5e-40e5-8dee-0406dd91c58a",
   "metadata": {},
   "outputs": [],
   "source": [
    "a=\"hello world!\""
   ]
  },
  {
   "cell_type": "code",
   "execution_count": 77,
   "id": "981a54af-e519-4536-9a92-03ff448b6322",
   "metadata": {},
   "outputs": [
    {
     "data": {
      "text/plain": [
       "'hello world!'"
      ]
     },
     "execution_count": 77,
     "metadata": {},
     "output_type": "execute_result"
    }
   ],
   "source": [
    "a "
   ]
  },
  {
   "cell_type": "code",
   "execution_count": 78,
   "id": "208dd265-dec6-43d4-a748-612b0a9ef421",
   "metadata": {},
   "outputs": [
    {
     "data": {
      "text/plain": [
       "' world'"
      ]
     },
     "execution_count": 78,
     "metadata": {},
     "output_type": "execute_result"
    }
   ],
   "source": [
    "(a[5:-1])"
   ]
  },
  {
   "cell_type": "markdown",
   "id": "07d6427f-704e-4bf6-bfd5-1eeb9a0e611b",
   "metadata": {},
   "source": [
    "Q11"
   ]
  },
  {
   "cell_type": "code",
   "execution_count": 90,
   "id": "f573e661-c93d-4dbe-859d-a47f39279473",
   "metadata": {},
   "outputs": [
    {
     "name": "stdout",
     "output_type": "stream",
     "text": [
      "True\n"
     ]
    }
   ],
   "source": [
    "is_student=True\n",
    "print(is_student)"
   ]
  },
  {
   "cell_type": "code",
   "execution_count": null,
   "id": "d9ad16d7-0821-4603-9cb1-4548b8a5147d",
   "metadata": {},
   "outputs": [],
   "source": []
  }
 ],
 "metadata": {
  "kernelspec": {
   "display_name": "Python 3 (ipykernel)",
   "language": "python",
   "name": "python3"
  },
  "language_info": {
   "codemirror_mode": {
    "name": "ipython",
    "version": 3
   },
   "file_extension": ".py",
   "mimetype": "text/x-python",
   "name": "python",
   "nbconvert_exporter": "python",
   "pygments_lexer": "ipython3",
   "version": "3.10.8"
  }
 },
 "nbformat": 4,
 "nbformat_minor": 5
}
